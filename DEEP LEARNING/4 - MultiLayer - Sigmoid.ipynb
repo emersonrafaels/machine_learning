{
  "nbformat": 4,
  "nbformat_minor": 0,
  "metadata": {
    "colab": {
      "provenance": []
    },
    "kernelspec": {
      "name": "python3",
      "display_name": "Python 3"
    },
    "language_info": {
      "name": "python"
    }
  },
  "cells": [
    {
      "cell_type": "code",
      "execution_count": null,
      "metadata": {
        "id": "RJYgjdpI4hOv"
      },
      "outputs": [],
      "source": [
        "import numpy as np"
      ]
    },
    {
      "cell_type": "code",
      "source": [
        "def sum_function(inputs, weights):\n",
        "\n",
        "  return inputs.dot(weights)\n",
        "\n",
        "def sigmoid_function(value_sum):\n",
        "\n",
        "  result_sigmoid = (1/(1 + np.exp(-value)))\n",
        "  \n",
        "  return result_sigmoid"
      ],
      "metadata": {
        "id": "u72g-za54nSv"
      },
      "execution_count": null,
      "outputs": []
    },
    {
      "cell_type": "code",
      "source": [
        "inputs = np.array([[0, 1], [0, 1], [1, 0], [1, 1]])"
      ],
      "metadata": {
        "id": "wh7aS4Ek4vT2"
      },
      "execution_count": 27,
      "outputs": []
    },
    {
      "cell_type": "code",
      "source": [
        "weights_one = np.array([[-0.424, -0.740, -0.961], \n",
        "                        [0.358, -0.577, -0.469]])"
      ],
      "metadata": {
        "id": "424_GR9J44H1"
      },
      "execution_count": 28,
      "outputs": []
    },
    {
      "cell_type": "code",
      "source": [
        "weights_two = np.array([[-0.017], \n",
        "                        [0.893], \n",
        "                        [0.148]])"
      ],
      "metadata": {
        "id": "CaPWGblF443N"
      },
      "execution_count": 29,
      "outputs": []
    },
    {
      "cell_type": "code",
      "source": [
        "# OBTENDO A FUNÇÃO SOMA PARA CADA CAMADA OCULTA\n",
        "\n",
        "result_sum_function = sum_function(inputs, weights_one)\n",
        "result_sum_function"
      ],
      "metadata": {
        "colab": {
          "base_uri": "https://localhost:8080/"
        },
        "id": "Fl5l27xp8ieX",
        "outputId": "04d99297-2e7c-419d-f8dc-dbb1fa1055e7"
      },
      "execution_count": 30,
      "outputs": [
        {
          "output_type": "execute_result",
          "data": {
            "text/plain": [
              "array([[ 0.358, -0.577, -0.469],\n",
              "       [ 0.358, -0.577, -0.469],\n",
              "       [-0.424, -0.74 , -0.961],\n",
              "       [-0.066, -1.317, -1.43 ]])"
            ]
          },
          "metadata": {},
          "execution_count": 30
        }
      ]
    },
    {
      "cell_type": "code",
      "source": [
        "# OBTENDO A FUNÇÃO DE ATIVAÇÃO PARA CADA CAMADA OCULTA\n",
        "\n",
        "result_activation_function = sigmoid_function(result_sum_function)\n",
        "result_activation_function"
      ],
      "metadata": {
        "colab": {
          "base_uri": "https://localhost:8080/"
        },
        "id": "serYoAjg8kyV",
        "outputId": "6f18353c-2917-4ca5-b22b-0817cdb68451"
      },
      "execution_count": 31,
      "outputs": [
        {
          "output_type": "execute_result",
          "data": {
            "text/plain": [
              "[array([[0.5885562 , 0.35962319, 0.38485296],\n",
              "        [0.5885562 , 0.35962319, 0.38485296],\n",
              "        [0.39555998, 0.32300414, 0.27667802],\n",
              "        [0.48350599, 0.21131785, 0.19309868]])]"
            ]
          },
          "metadata": {},
          "execution_count": 31
        }
      ]
    },
    {
      "cell_type": "code",
      "source": [],
      "metadata": {
        "id": "SxG1Xb_7CTci"
      },
      "execution_count": null,
      "outputs": []
    }
  ]
}