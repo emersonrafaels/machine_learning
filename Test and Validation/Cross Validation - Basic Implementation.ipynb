{
 "cells": [
  {
   "cell_type": "markdown",
   "metadata": {},
   "source": [
    "# Evaluate a logistic regression model using k-fold cross-validation"
   ]
  },
  {
   "cell_type": "markdown",
   "metadata": {
    "ExecuteTime": {
     "end_time": "2023-01-03T06:07:04.393970Z",
     "start_time": "2023-01-03T06:07:03.763934Z"
    }
   },
   "source": [
    "![Kfold_I](https://scikit-learn.org/stable/_images/grid_search_cross_validation.png)"
   ]
  },
  {
   "cell_type": "markdown",
   "metadata": {},
   "source": [
    "### Example with 5 Folds"
   ]
  },
  {
   "cell_type": "markdown",
   "metadata": {
    "ExecuteTime": {
     "end_time": "2023-01-03T06:07:55.720906Z",
     "start_time": "2023-01-03T06:07:55.409888Z"
    }
   },
   "source": [
    "![Kfold Example with 5 Folds](http://ethen8181.github.io/machine-learning/model_selection/img/kfolds.png)"
   ]
  },
  {
   "cell_type": "markdown",
   "metadata": {},
   "source": [
    "# Import Libs"
   ]
  },
  {
   "cell_type": "code",
   "execution_count": 1,
   "metadata": {
    "ExecuteTime": {
     "end_time": "2023-01-03T05:17:32.224972Z",
     "start_time": "2023-01-03T05:17:31.246916Z"
    }
   },
   "outputs": [],
   "source": [
    "from numpy import mean, std\n",
    "from sklearn.datasets import make_classification\n",
    "from sklearn.model_selection import KFold, cross_val_score\n",
    "from sklearn.linear_model import LogisticRegression"
   ]
  },
  {
   "cell_type": "markdown",
   "metadata": {},
   "source": [
    "# Global Variables"
   ]
  },
  {
   "cell_type": "code",
   "execution_count": 15,
   "metadata": {
    "ExecuteTime": {
     "end_time": "2023-01-03T05:44:14.454614Z",
     "start_time": "2023-01-03T05:44:14.450614Z"
    }
   },
   "outputs": [],
   "source": [
    "SEED = 42"
   ]
  },
  {
   "cell_type": "markdown",
   "metadata": {},
   "source": [
    "# Create dataset"
   ]
  },
  {
   "cell_type": "code",
   "execution_count": 3,
   "metadata": {
    "ExecuteTime": {
     "end_time": "2023-01-03T05:17:32.402982Z",
     "start_time": "2023-01-03T05:17:32.237973Z"
    }
   },
   "outputs": [],
   "source": [
    "X, y = make_classification(n_samples=100, \n",
    "                           n_features=20, \n",
    "                           n_informative=15, \n",
    "                           n_redundant=5, \n",
    "                           random_state=SEED)"
   ]
  },
  {
   "cell_type": "markdown",
   "metadata": {},
   "source": [
    "# Prepare the cross-validation procedure"
   ]
  },
  {
   "cell_type": "code",
   "execution_count": 4,
   "metadata": {
    "ExecuteTime": {
     "end_time": "2023-01-03T05:17:32.556991Z",
     "start_time": "2023-01-03T05:17:32.404982Z"
    }
   },
   "outputs": [],
   "source": [
    "cv = KFold(n_splits=10, \n",
    "           random_state=SEED,\n",
    "           shuffle=True)"
   ]
  },
  {
   "cell_type": "markdown",
   "metadata": {},
   "source": [
    "# Create model"
   ]
  },
  {
   "cell_type": "code",
   "execution_count": 5,
   "metadata": {
    "ExecuteTime": {
     "end_time": "2023-01-03T05:17:32.712000Z",
     "start_time": "2023-01-03T05:17:32.558991Z"
    }
   },
   "outputs": [],
   "source": [
    "model = LogisticRegression()"
   ]
  },
  {
   "cell_type": "markdown",
   "metadata": {},
   "source": [
    "# Evaluate model using Cross Validation"
   ]
  },
  {
   "cell_type": "code",
   "execution_count": 6,
   "metadata": {
    "ExecuteTime": {
     "end_time": "2023-01-03T05:18:34.338525Z",
     "start_time": "2023-01-03T05:17:32.717000Z"
    }
   },
   "outputs": [],
   "source": [
    "scores = cross_val_score(model, \n",
    "                         X, y, \n",
    "                         scoring='accuracy', \n",
    "                         cv=cv, \n",
    "                         n_jobs=-1)"
   ]
  },
  {
   "cell_type": "markdown",
   "metadata": {},
   "source": [
    "# Report performance"
   ]
  },
  {
   "cell_type": "code",
   "execution_count": 14,
   "metadata": {
    "ExecuteTime": {
     "end_time": "2023-01-03T05:24:51.177078Z",
     "start_time": "2023-01-03T05:24:51.172078Z"
    }
   },
   "outputs": [
    {
     "data": {
      "text/plain": [
       "array([0.7, 0.6, 0.9, 0.6, 0.8, 0.6, 1. , 0.5, 1. , 0.9])"
      ]
     },
     "execution_count": 14,
     "metadata": {},
     "output_type": "execute_result"
    }
   ],
   "source": [
    "# List of scores\n",
    "\n",
    "scores"
   ]
  },
  {
   "cell_type": "code",
   "execution_count": 12,
   "metadata": {
    "ExecuteTime": {
     "end_time": "2023-01-03T05:24:24.377546Z",
     "start_time": "2023-01-03T05:24:24.372545Z"
    }
   },
   "outputs": [
    {
     "name": "stdout",
     "output_type": "stream",
     "text": [
      "Accuracy: 0.760 - Desvio: 0.174\n"
     ]
    }
   ],
   "source": [
    "print('Accuracy: {:.3f} - Desvio: {:.3f}'.format(mean(scores), std(scores)))"
   ]
  }
 ],
 "metadata": {
  "kernelspec": {
   "display_name": "Python 3",
   "language": "python",
   "name": "python3"
  },
  "language_info": {
   "codemirror_mode": {
    "name": "ipython",
    "version": 3
   },
   "file_extension": ".py",
   "mimetype": "text/x-python",
   "name": "python",
   "nbconvert_exporter": "python",
   "pygments_lexer": "ipython3",
   "version": "3.7.6"
  },
  "toc": {
   "base_numbering": 1,
   "nav_menu": {},
   "number_sections": true,
   "sideBar": true,
   "skip_h1_title": false,
   "title_cell": "Table of Contents",
   "title_sidebar": "Contents",
   "toc_cell": false,
   "toc_position": {},
   "toc_section_display": true,
   "toc_window_display": false
  },
  "varInspector": {
   "cols": {
    "lenName": 16,
    "lenType": 16,
    "lenVar": 40
   },
   "kernels_config": {
    "python": {
     "delete_cmd_postfix": "",
     "delete_cmd_prefix": "del ",
     "library": "var_list.py",
     "varRefreshCmd": "print(var_dic_list())"
    },
    "r": {
     "delete_cmd_postfix": ") ",
     "delete_cmd_prefix": "rm(",
     "library": "var_list.r",
     "varRefreshCmd": "cat(var_dic_list()) "
    }
   },
   "types_to_exclude": [
    "module",
    "function",
    "builtin_function_or_method",
    "instance",
    "_Feature"
   ],
   "window_display": false
  }
 },
 "nbformat": 4,
 "nbformat_minor": 4
}
